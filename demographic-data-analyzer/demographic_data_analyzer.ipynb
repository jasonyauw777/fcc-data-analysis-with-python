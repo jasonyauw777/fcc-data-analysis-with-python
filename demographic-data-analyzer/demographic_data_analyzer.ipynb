{
  "nbformat": 4,
  "nbformat_minor": 0,
  "metadata": {
    "colab": {
      "name": "demographic-data-analyzer.ipynb",
      "provenance": [],
      "collapsed_sections": []
    },
    "kernelspec": {
      "name": "python3",
      "display_name": "Python 3"
    },
    "language_info": {
      "name": "python"
    }
  },
  "cells": [
    {
      "cell_type": "code",
      "metadata": {
        "colab": {
          "base_uri": "https://localhost:8080/"
        },
        "id": "YGVxyzfZxFZj",
        "outputId": "5b5adbad-a29b-40ac-d30b-e7c276682398"
      },
      "source": [
        "# Load CSV file from my google drive \n",
        "\n",
        "from google.colab import drive\n",
        "drive.mount('/content/drive')"
      ],
      "execution_count": null,
      "outputs": [
        {
          "output_type": "stream",
          "text": [
            "Mounted at /content/drive\n"
          ],
          "name": "stdout"
        }
      ]
    },
    {
      "cell_type": "code",
      "metadata": {
        "colab": {
          "base_uri": "https://localhost:8080/",
          "height": 306
        },
        "id": "4E84yXL7JgzM",
        "outputId": "0d7ea2a2-0b31-435f-ecd1-bc9ae92c47b3"
      },
      "source": [
        "import pandas as pd\n",
        "\n",
        "path = '/content/drive/MyDrive/Colab Notebooks/adult.data.csv'\n",
        "df = pd.read_csv(path)\n",
        "\n",
        "df.head()"
      ],
      "execution_count": null,
      "outputs": [
        {
          "output_type": "execute_result",
          "data": {
            "text/html": [
              "<div>\n",
              "<style scoped>\n",
              "    .dataframe tbody tr th:only-of-type {\n",
              "        vertical-align: middle;\n",
              "    }\n",
              "\n",
              "    .dataframe tbody tr th {\n",
              "        vertical-align: top;\n",
              "    }\n",
              "\n",
              "    .dataframe thead th {\n",
              "        text-align: right;\n",
              "    }\n",
              "</style>\n",
              "<table border=\"1\" class=\"dataframe\">\n",
              "  <thead>\n",
              "    <tr style=\"text-align: right;\">\n",
              "      <th></th>\n",
              "      <th>age</th>\n",
              "      <th>workclass</th>\n",
              "      <th>fnlwgt</th>\n",
              "      <th>education</th>\n",
              "      <th>education-num</th>\n",
              "      <th>marital-status</th>\n",
              "      <th>occupation</th>\n",
              "      <th>relationship</th>\n",
              "      <th>race</th>\n",
              "      <th>sex</th>\n",
              "      <th>capital-gain</th>\n",
              "      <th>capital-loss</th>\n",
              "      <th>hours-per-week</th>\n",
              "      <th>native-country</th>\n",
              "      <th>salary</th>\n",
              "    </tr>\n",
              "  </thead>\n",
              "  <tbody>\n",
              "    <tr>\n",
              "      <th>0</th>\n",
              "      <td>39</td>\n",
              "      <td>State-gov</td>\n",
              "      <td>77516</td>\n",
              "      <td>Bachelors</td>\n",
              "      <td>13</td>\n",
              "      <td>Never-married</td>\n",
              "      <td>Adm-clerical</td>\n",
              "      <td>Not-in-family</td>\n",
              "      <td>White</td>\n",
              "      <td>Male</td>\n",
              "      <td>2174</td>\n",
              "      <td>0</td>\n",
              "      <td>40</td>\n",
              "      <td>United-States</td>\n",
              "      <td>&lt;=50K</td>\n",
              "    </tr>\n",
              "    <tr>\n",
              "      <th>1</th>\n",
              "      <td>50</td>\n",
              "      <td>Self-emp-not-inc</td>\n",
              "      <td>83311</td>\n",
              "      <td>Bachelors</td>\n",
              "      <td>13</td>\n",
              "      <td>Married-civ-spouse</td>\n",
              "      <td>Exec-managerial</td>\n",
              "      <td>Husband</td>\n",
              "      <td>White</td>\n",
              "      <td>Male</td>\n",
              "      <td>0</td>\n",
              "      <td>0</td>\n",
              "      <td>13</td>\n",
              "      <td>United-States</td>\n",
              "      <td>&lt;=50K</td>\n",
              "    </tr>\n",
              "    <tr>\n",
              "      <th>2</th>\n",
              "      <td>38</td>\n",
              "      <td>Private</td>\n",
              "      <td>215646</td>\n",
              "      <td>HS-grad</td>\n",
              "      <td>9</td>\n",
              "      <td>Divorced</td>\n",
              "      <td>Handlers-cleaners</td>\n",
              "      <td>Not-in-family</td>\n",
              "      <td>White</td>\n",
              "      <td>Male</td>\n",
              "      <td>0</td>\n",
              "      <td>0</td>\n",
              "      <td>40</td>\n",
              "      <td>United-States</td>\n",
              "      <td>&lt;=50K</td>\n",
              "    </tr>\n",
              "    <tr>\n",
              "      <th>3</th>\n",
              "      <td>53</td>\n",
              "      <td>Private</td>\n",
              "      <td>234721</td>\n",
              "      <td>11th</td>\n",
              "      <td>7</td>\n",
              "      <td>Married-civ-spouse</td>\n",
              "      <td>Handlers-cleaners</td>\n",
              "      <td>Husband</td>\n",
              "      <td>Black</td>\n",
              "      <td>Male</td>\n",
              "      <td>0</td>\n",
              "      <td>0</td>\n",
              "      <td>40</td>\n",
              "      <td>United-States</td>\n",
              "      <td>&lt;=50K</td>\n",
              "    </tr>\n",
              "    <tr>\n",
              "      <th>4</th>\n",
              "      <td>28</td>\n",
              "      <td>Private</td>\n",
              "      <td>338409</td>\n",
              "      <td>Bachelors</td>\n",
              "      <td>13</td>\n",
              "      <td>Married-civ-spouse</td>\n",
              "      <td>Prof-specialty</td>\n",
              "      <td>Wife</td>\n",
              "      <td>Black</td>\n",
              "      <td>Female</td>\n",
              "      <td>0</td>\n",
              "      <td>0</td>\n",
              "      <td>40</td>\n",
              "      <td>Cuba</td>\n",
              "      <td>&lt;=50K</td>\n",
              "    </tr>\n",
              "  </tbody>\n",
              "</table>\n",
              "</div>"
            ],
            "text/plain": [
              "   age         workclass  fnlwgt  ... hours-per-week  native-country salary\n",
              "0   39         State-gov   77516  ...             40   United-States  <=50K\n",
              "1   50  Self-emp-not-inc   83311  ...             13   United-States  <=50K\n",
              "2   38           Private  215646  ...             40   United-States  <=50K\n",
              "3   53           Private  234721  ...             40   United-States  <=50K\n",
              "4   28           Private  338409  ...             40            Cuba  <=50K\n",
              "\n",
              "[5 rows x 15 columns]"
            ]
          },
          "metadata": {
            "tags": []
          },
          "execution_count": 5
        }
      ]
    },
    {
      "cell_type": "code",
      "metadata": {
        "colab": {
          "base_uri": "https://localhost:8080/"
        },
        "id": "yo8NubiafDnE",
        "outputId": "f64bb346-16d2-46e0-f7f4-122a3bebaae2"
      },
      "source": [
        "# How many of each race are represented in this dataset? This should be a Pandas series with race names as the index labels.\n",
        "race_count = df[\"race\"].value_counts()\n",
        "\n",
        "print(race_count)"
      ],
      "execution_count": null,
      "outputs": [
        {
          "output_type": "stream",
          "text": [
            "White                 27816\n",
            "Black                  3124\n",
            "Asian-Pac-Islander     1039\n",
            "Amer-Indian-Eskimo      311\n",
            "Other                   271\n",
            "Name: race, dtype: int64\n"
          ],
          "name": "stdout"
        }
      ]
    },
    {
      "cell_type": "code",
      "metadata": {
        "colab": {
          "base_uri": "https://localhost:8080/"
        },
        "id": "jT0-Ct9BfYI3",
        "outputId": "8544c59a-077d-46cc-81e1-4a75eb655700"
      },
      "source": [
        "# What is the average age of men?\n",
        "average_age_men = round(df.loc[df[\"sex\"] == \"Male\", \"age\"].mean(),1)\n",
        "\n",
        "print(average_age_men)"
      ],
      "execution_count": 68,
      "outputs": [
        {
          "output_type": "stream",
          "text": [
            "39.4\n"
          ],
          "name": "stdout"
        }
      ]
    },
    {
      "cell_type": "code",
      "metadata": {
        "colab": {
          "base_uri": "https://localhost:8080/"
        },
        "id": "d0rUdcUZfpj5",
        "outputId": "dc60a9df-cbf5-4b62-eada-587728cc6309"
      },
      "source": [
        "# What is the percentage of people who have a Bachelor's degree?\n",
        "number_bachelors = (df[\"education\"] == \"Bachelors\").sum()\n",
        "number_education = (len(df.index))\n",
        "\n",
        "percentage_bachelors = round(float(number_bachelors/number_education)*100, 1)\n",
        "\n",
        "print(number_bachelors)\n",
        "print(number_education)\n",
        "print(percentage_bachelors)"
      ],
      "execution_count": 71,
      "outputs": [
        {
          "output_type": "stream",
          "text": [
            "5355\n",
            "32561\n",
            "16.4\n"
          ],
          "name": "stdout"
        }
      ]
    },
    {
      "cell_type": "code",
      "metadata": {
        "colab": {
          "base_uri": "https://localhost:8080/"
        },
        "id": "uStqDFDdj51e",
        "outputId": "75294d98-898d-47f6-9106-cdb96b94b8cf"
      },
      "source": [
        "# What percentage of people with advanced education (`Bachelors`, `Masters`, or `Doctorate`) make more than 50K?\n",
        "# What percentage of people without advanced education make more than 50K?\n",
        "\n",
        "# with and without `Bachelors`, `Masters`, or `Doctorate`\n",
        "\n",
        "number_higher_education = (df[\"education\"] == \"Bachelors\").sum() + (df[\"education\"] == \"Masters\").sum() + (df[\"education\"] == \"Doctorate\").sum()\n",
        "number_lower_education =  len(df.loc[((df[\"education\"] != \"Bachelors\") & (df[\"education\"] != \"Masters\") & (df[\"education\"] != \"Doctorate\"))]\n",
        ".index)\n",
        "\n",
        "print(\"Number of higher educated\", number_higher_education)\n",
        "\n",
        "print(\"Number of lower educated\", number_lower_education)\n",
        "\n",
        "higher_education = float(number_higher_education / number_education) * 100\n",
        "\n",
        "lower_education = float(number_lower_education / number_education) * 100\n",
        "\n",
        "print(\"Percentage of higher educated\", higher_education)\n",
        "\n",
        "print(\"Percentage of lower educated\", lower_education)\n",
        "\n",
        "rich_higher_education_df = df.loc[((df[\"education\"] == \"Bachelors\") | (df[\"education\"] == \"Masters\") | (df[\"education\"] == \"Doctorate\"))\n",
        "& (df[\"salary\"]=='>50K')]\n",
        "\n",
        "rich_lower_education_df = df.loc[((df[\"education\"] != \"Bachelors\") & (df[\"education\"] != \"Masters\") & (df[\"education\"] != \"Doctorate\")) \n",
        "& (df[\"salary\"]=='>50K')]\n",
        "\n",
        "rich_higher_education = len(rich_higher_education_df.index)\n",
        "\n",
        "rich_lower_education = len(rich_lower_education_df.index)\n",
        "\n",
        "# percentage with salary >50K\n",
        "higher_education_rich =  round(float(rich_higher_education/number_higher_education)*100,1)\n",
        "lower_education_rich =  round(float(rich_lower_education/number_lower_education)*100,1)\n",
        "\n",
        "print(higher_education_rich)\n",
        "print(lower_education_rich)"
      ],
      "execution_count": 70,
      "outputs": [
        {
          "output_type": "stream",
          "text": [
            "Number of higher educated 7491\n",
            "Number of lower educated 25070\n",
            "Percentage of higher educated 23.006050182733944\n",
            "Percentage of lower educated 76.99394981726606\n",
            "46.5\n",
            "17.4\n"
          ],
          "name": "stdout"
        }
      ]
    },
    {
      "cell_type": "code",
      "metadata": {
        "colab": {
          "base_uri": "https://localhost:8080/"
        },
        "id": "L28OR7hE0wnp",
        "outputId": "1f21f454-3039-444e-b3cb-1d8defb239ab"
      },
      "source": [
        "# What is the minimum number of hours a person works per week (hours-per-week feature)?\n",
        "min_work_hours = df[\"hours-per-week\"].min()\n",
        "\n",
        "print(min_work_hours)"
      ],
      "execution_count": null,
      "outputs": [
        {
          "output_type": "stream",
          "text": [
            "1\n"
          ],
          "name": "stdout"
        }
      ]
    },
    {
      "cell_type": "code",
      "metadata": {
        "colab": {
          "base_uri": "https://localhost:8080/"
        },
        "id": "0KKN-qTd1kfx",
        "outputId": "44748a9b-0e80-47ac-b0d6-c89ce733a479"
      },
      "source": [
        "# What percentage of the people who work the minimum number of hours per week have a salary of >50K?\n",
        "num_min_workers = len(df.loc[ (df[\"hours-per-week\"]==1) & (df[\"salary\"] == \">50K\") ].index)\n",
        "\n",
        "print(num_min_workers) \n",
        "\n",
        "rich_percentage = float(num_min_workers/len(df.loc[df[\"hours-per-week\"]==1].index))*100\n",
        "\n",
        "print(rich_percentage)"
      ],
      "execution_count": null,
      "outputs": [
        {
          "output_type": "stream",
          "text": [
            "2\n",
            "10.0\n"
          ],
          "name": "stdout"
        }
      ]
    },
    {
      "cell_type": "code",
      "metadata": {
        "colab": {
          "base_uri": "https://localhost:8080/"
        },
        "id": "JaiJX_7QBubz",
        "outputId": "960817fb-cb83-40c3-d8cd-f897c457bd75"
      },
      "source": [
        "# What country has the highest percentage of people that earn >50K?\n",
        "highest_earning_country = ( ( df[\"native-country\"].loc[(df[\"salary\"] == \">50K\")].value_counts() )/( df[\"native-country\"].value_counts() ) ).idxmax()\n",
        "\n",
        "print(highest_earning_country)\n",
        "\n",
        "highest_earning_country_percentage = round(float(( ( df[\"native-country\"].loc[(df[\"salary\"] == \">50K\")].value_counts() )\n",
        "                                    /( df[\"native-country\"].value_counts() ) ).max())*100,1)\n",
        "\n",
        "highest_earning_country_percentage"
      ],
      "execution_count": 72,
      "outputs": [
        {
          "output_type": "stream",
          "text": [
            "Iran\n"
          ],
          "name": "stdout"
        },
        {
          "output_type": "execute_result",
          "data": {
            "text/plain": [
              "41.9"
            ]
          },
          "metadata": {
            "tags": []
          },
          "execution_count": 72
        }
      ]
    },
    {
      "cell_type": "code",
      "metadata": {
        "colab": {
          "base_uri": "https://localhost:8080/"
        },
        "id": "KnR_i77OPg2r",
        "outputId": "c59ab1ce-c7fe-44a9-e8e2-649383a72dfa"
      },
      "source": [
        "# Identify the most popular occupation for those who earn >50K in India.\n",
        "top_IN_occupation = df[\"occupation\"].loc[(df[\"salary\"] == \">50K\") & (df[\"native-country\"] == \"India\")].value_counts().idxmax()\n",
        "\n",
        "print(top_IN_occupation)"
      ],
      "execution_count": 66,
      "outputs": [
        {
          "output_type": "stream",
          "text": [
            "Prof-specialty\n"
          ],
          "name": "stdout"
        }
      ]
    }
  ]
}
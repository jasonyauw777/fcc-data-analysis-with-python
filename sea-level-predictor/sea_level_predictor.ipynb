{
  "nbformat": 4,
  "nbformat_minor": 0,
  "metadata": {
    "colab": {
      "name": "sea-level-predictor.ipynb",
      "provenance": [],
      "collapsed_sections": []
    },
    "kernelspec": {
      "name": "python3",
      "display_name": "Python 3"
    },
    "language_info": {
      "name": "python"
    }
  },
  "cells": [
    {
      "cell_type": "code",
      "metadata": {
        "colab": {
          "base_uri": "https://localhost:8080/"
        },
        "id": "HgZ_j8MnbYGh",
        "outputId": "adc7d172-2b8f-4d87-81db-62920490dcf5"
      },
      "source": [
        "# Load CSV file from my google drive \n",
        "\n",
        "from google.colab import drive\n",
        "drive.mount('/content/drive')"
      ],
      "execution_count": 1,
      "outputs": [
        {
          "output_type": "stream",
          "text": [
            "Drive already mounted at /content/drive; to attempt to forcibly remount, call drive.mount(\"/content/drive\", force_remount=True).\n"
          ],
          "name": "stdout"
        }
      ]
    },
    {
      "cell_type": "code",
      "metadata": {
        "colab": {
          "base_uri": "https://localhost:8080/",
          "height": 419
        },
        "id": "QnW2bIA5bmRr",
        "outputId": "40f2d473-a568-413e-ea54-b1a1c8bc13db"
      },
      "source": [
        "import pandas as pd\n",
        "import numpy as np\n",
        "import matplotlib.pyplot as plt\n",
        "from scipy.stats import linregress\n",
        "\n",
        "# Import data (Make sure to parse dates. Consider setting index column to 'date'.)\n",
        "path = \"/content/drive/MyDrive/Colab Notebooks/epa-sea-level.csv\"\n",
        "\n",
        "# Read data from file\n",
        "df = pd.read_csv(path)\n",
        "\n",
        "df"
      ],
      "execution_count": 5,
      "outputs": [
        {
          "output_type": "execute_result",
          "data": {
            "text/html": [
              "<div>\n",
              "<style scoped>\n",
              "    .dataframe tbody tr th:only-of-type {\n",
              "        vertical-align: middle;\n",
              "    }\n",
              "\n",
              "    .dataframe tbody tr th {\n",
              "        vertical-align: top;\n",
              "    }\n",
              "\n",
              "    .dataframe thead th {\n",
              "        text-align: right;\n",
              "    }\n",
              "</style>\n",
              "<table border=\"1\" class=\"dataframe\">\n",
              "  <thead>\n",
              "    <tr style=\"text-align: right;\">\n",
              "      <th></th>\n",
              "      <th>Year</th>\n",
              "      <th>CSIRO Adjusted Sea Level</th>\n",
              "      <th>Lower Error Bound</th>\n",
              "      <th>Upper Error Bound</th>\n",
              "      <th>NOAA Adjusted Sea Level</th>\n",
              "    </tr>\n",
              "  </thead>\n",
              "  <tbody>\n",
              "    <tr>\n",
              "      <th>0</th>\n",
              "      <td>1880</td>\n",
              "      <td>0.000000</td>\n",
              "      <td>-0.952756</td>\n",
              "      <td>0.952756</td>\n",
              "      <td>NaN</td>\n",
              "    </tr>\n",
              "    <tr>\n",
              "      <th>1</th>\n",
              "      <td>1881</td>\n",
              "      <td>0.220472</td>\n",
              "      <td>-0.732283</td>\n",
              "      <td>1.173228</td>\n",
              "      <td>NaN</td>\n",
              "    </tr>\n",
              "    <tr>\n",
              "      <th>2</th>\n",
              "      <td>1882</td>\n",
              "      <td>-0.440945</td>\n",
              "      <td>-1.346457</td>\n",
              "      <td>0.464567</td>\n",
              "      <td>NaN</td>\n",
              "    </tr>\n",
              "    <tr>\n",
              "      <th>3</th>\n",
              "      <td>1883</td>\n",
              "      <td>-0.232283</td>\n",
              "      <td>-1.129921</td>\n",
              "      <td>0.665354</td>\n",
              "      <td>NaN</td>\n",
              "    </tr>\n",
              "    <tr>\n",
              "      <th>4</th>\n",
              "      <td>1884</td>\n",
              "      <td>0.590551</td>\n",
              "      <td>-0.283465</td>\n",
              "      <td>1.464567</td>\n",
              "      <td>NaN</td>\n",
              "    </tr>\n",
              "    <tr>\n",
              "      <th>...</th>\n",
              "      <td>...</td>\n",
              "      <td>...</td>\n",
              "      <td>...</td>\n",
              "      <td>...</td>\n",
              "      <td>...</td>\n",
              "    </tr>\n",
              "    <tr>\n",
              "      <th>129</th>\n",
              "      <td>2009</td>\n",
              "      <td>8.586614</td>\n",
              "      <td>8.311024</td>\n",
              "      <td>8.862205</td>\n",
              "      <td>8.046354</td>\n",
              "    </tr>\n",
              "    <tr>\n",
              "      <th>130</th>\n",
              "      <td>2010</td>\n",
              "      <td>8.901575</td>\n",
              "      <td>8.618110</td>\n",
              "      <td>9.185039</td>\n",
              "      <td>8.122973</td>\n",
              "    </tr>\n",
              "    <tr>\n",
              "      <th>131</th>\n",
              "      <td>2011</td>\n",
              "      <td>8.964567</td>\n",
              "      <td>8.661417</td>\n",
              "      <td>9.267717</td>\n",
              "      <td>8.053065</td>\n",
              "    </tr>\n",
              "    <tr>\n",
              "      <th>132</th>\n",
              "      <td>2012</td>\n",
              "      <td>9.326772</td>\n",
              "      <td>8.992126</td>\n",
              "      <td>9.661417</td>\n",
              "      <td>8.457058</td>\n",
              "    </tr>\n",
              "    <tr>\n",
              "      <th>133</th>\n",
              "      <td>2013</td>\n",
              "      <td>8.980315</td>\n",
              "      <td>8.622047</td>\n",
              "      <td>9.338583</td>\n",
              "      <td>8.546648</td>\n",
              "    </tr>\n",
              "  </tbody>\n",
              "</table>\n",
              "<p>134 rows × 5 columns</p>\n",
              "</div>"
            ],
            "text/plain": [
              "     Year  CSIRO Adjusted Sea Level  ...  Upper Error Bound  NOAA Adjusted Sea Level\n",
              "0    1880                  0.000000  ...           0.952756                      NaN\n",
              "1    1881                  0.220472  ...           1.173228                      NaN\n",
              "2    1882                 -0.440945  ...           0.464567                      NaN\n",
              "3    1883                 -0.232283  ...           0.665354                      NaN\n",
              "4    1884                  0.590551  ...           1.464567                      NaN\n",
              "..    ...                       ...  ...                ...                      ...\n",
              "129  2009                  8.586614  ...           8.862205                 8.046354\n",
              "130  2010                  8.901575  ...           9.185039                 8.122973\n",
              "131  2011                  8.964567  ...           9.267717                 8.053065\n",
              "132  2012                  9.326772  ...           9.661417                 8.457058\n",
              "133  2013                  8.980315  ...           9.338583                 8.546648\n",
              "\n",
              "[134 rows x 5 columns]"
            ]
          },
          "metadata": {
            "tags": []
          },
          "execution_count": 5
        }
      ]
    },
    {
      "cell_type": "code",
      "metadata": {
        "colab": {
          "base_uri": "https://localhost:8080/",
          "height": 350
        },
        "id": "9GNIE17GcU-9",
        "outputId": "737857a9-efbd-4bbf-dcda-965a49076488"
      },
      "source": [
        "plt.figure(figsize=(15,5))\n",
        "\n",
        "# Create scatter plot\n",
        "plt.scatter(df[\"Year\"], df[\"CSIRO Adjusted Sea Level\"], color = \"black\")\n",
        "\n",
        "# Create first line of best fit\n",
        "slope, intercept, r_value, p_value, stderr = linregress(df[\"Year\"], df[\"CSIRO Adjusted Sea Level\"])\n",
        "\n",
        "line_x = np.arange(df[\"Year\"].min(), 2050, 1)\n",
        "line_y = slope*line_x + intercept\n",
        "plt.plot(line_x, line_y, \"r\")\n",
        "\n",
        "\n",
        "# Create second line of best fit\n",
        "\n",
        "df_2nd = df.loc[df[\"Year\"]>=2000]\n",
        "\n",
        "slope2, intercept2, r_value2, p_value2, stderr2 = linregress(df_2nd[\"Year\"], df_2nd[\"CSIRO Adjusted Sea Level\"])\n",
        "\n",
        "line_x2 = np.arange(2000, 2050)\n",
        "line_y2 = slope2*line_x2 + intercept2\n",
        "plt.plot(line_x2, line_y2, \"Y\")\n",
        "\n",
        "# Add labels and title\n",
        "\n",
        "plt.xlabel(\"Year\")\n",
        "plt.ylabel(\"Sea Level (inches)\")\n",
        "plt.title(\"Rise in Sea Level\")\n",
        "\n",
        "\n",
        "plt.show()\n"
      ],
      "execution_count": 29,
      "outputs": [
        {
          "output_type": "display_data",
          "data": {
            "image/png": "[encoded data removed]",
            "text/plain": [
              "<Figure size 1080x360 with 1 Axes>"
            ]
          },
          "metadata": {
            "tags": [],
            "needs_background": "light"
          }
        }
      ]
    }
  ]
}